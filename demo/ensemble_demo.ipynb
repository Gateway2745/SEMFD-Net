{
 "cells": [
  {
   "cell_type": "code",
   "execution_count": 1,
   "metadata": {},
   "outputs": [],
   "source": [
    "import os\n",
    "import os.path as osp\n",
    "import glob\n",
    "import numpy as np\n",
    "from PIL import Image\n",
    "import onnxruntime as ort\n",
    "from torchvision import transforms"
   ]
  },
  {
   "cell_type": "markdown",
   "metadata": {},
   "source": [
    "## Predict With Onnx"
   ]
  },
  {
   "cell_type": "code",
   "execution_count": 2,
   "metadata": {},
   "outputs": [],
   "source": [
    "IDX_TO_CLASS = {\n",
    "    0: \"Apple Scab Leaf\",\n",
    "    1: \"Apple leaf\",\n",
    "    2: \"Apple rust leaf\",\n",
    "    3: \"Bell_pepper leaf\",\n",
    "    4: \"Bell_pepper leaf spot\",\n",
    "    5: \"Blueberry leaf\",\n",
    "    6: \"Cherry leaf\",\n",
    "    7: \"Corn Gray leaf spot\",\n",
    "    8: \"Corn leaf blight\",\n",
    "    9: \"Corn rust leaf\",\n",
    "    10: \"Peach leaf\",\n",
    "    11: \"Potato leaf early blight\",\n",
    "    12: \"Potato leaf late blight\",\n",
    "    13: \"Raspberry leaf\",\n",
    "    14: \"Soyabean leaf\",\n",
    "    15: \"Squash Powdery mildew leaf\",\n",
    "    16: \"Strawberry leaf\",\n",
    "    17: \"Tomato Early blight leaf\",\n",
    "    18: \"Tomato Septoria leaf spot\",\n",
    "    19: \"Tomato leaf\",\n",
    "    20: \"Tomato leaf bacterial spot\",\n",
    "    21: \"Tomato leaf late blight\",\n",
    "    22: \"Tomato leaf mosaic virus\",\n",
    "    23: \"Tomato leaf yellow virus\",\n",
    "    24: \"Tomato mold leaf\",\n",
    "    25: \"grape leaf\",\n",
    "    26: \"grape leaf black rot\",\n",
    "}"
   ]
  },
  {
   "cell_type": "code",
   "execution_count": 3,
   "metadata": {},
   "outputs": [],
   "source": [
    "input_folder = './input_images/'\n",
    "input_image_paths = glob.glob(input_folder + '*.jpg') + glob.glob(input_folder + '*.jpeg')+ glob.glob(input_folder + '*.png')"
   ]
  },
  {
   "cell_type": "code",
   "execution_count": 4,
   "metadata": {},
   "outputs": [
    {
     "name": "stdout",
     "output_type": "stream",
     "text": [
      "1)  IMG PATH = ./input_images/apple_rust_leaf_1.jpg\n",
      "    PRED = Apple rust leaf\n",
      "\n",
      "2)  IMG PATH = ./input_images/soyabean_leaf_1.jpeg\n",
      "    PRED = Soyabean leaf\n",
      "\n",
      "3)  IMG PATH = ./input_images/apple_leaf_1.jpeg\n",
      "    PRED = Cherry leaf\n",
      "\n",
      "4)  IMG PATH = ./input_images/grape_leaf_1.jpeg\n",
      "    PRED = grape leaf\n",
      "\n",
      "5)  IMG PATH = ./input_images/potato_early_leaf_blight_1.jpeg\n",
      "    PRED = Potato leaf early blight\n",
      "\n"
     ]
    }
   ],
   "source": [
    "data_transforms = [transforms.Compose([transforms.Resize((256, 256)),\n",
    "                   transforms.ToTensor(),\n",
    "                   transforms.Normalize(mean=[0.469, 0.536, 0.369],\n",
    "                   std=[0.260, 0.244, 0.282])]),\n",
    "                   \n",
    "                   transforms.Compose([transforms.Resize((224, 224)),\n",
    "                   transforms.ToTensor(),\n",
    "                   transforms.Normalize(mean=[0.469, 0.536, 0.369],\n",
    "                   std=[0.260, 0.244, 0.282])])]\n",
    "\n",
    "ort_sess = ort.InferenceSession('ensemble.onnx')\n",
    "\n",
    "for idx, img_path in enumerate(input_image_paths):\n",
    "    image = Image.open(img_path).convert('RGB')\n",
    "\n",
    "    im1 = data_transforms[0](image).unsqueeze(0)\n",
    "    im2 = data_transforms[1](image).unsqueeze(0)\n",
    "\n",
    "    output = ort_sess.run(None, {'input1': im1.numpy(), 'input2': im2.numpy()})\n",
    "\n",
    "    y_pred = np.argmax(output)\n",
    "\n",
    "    print(f'{idx+1})  IMG PATH = {img_path}\\n    PRED = {IDX_TO_CLASS[y_pred]}\\n')"
   ]
  },
  {
   "cell_type": "code",
   "execution_count": null,
   "metadata": {},
   "outputs": [],
   "source": []
  }
 ],
 "metadata": {
  "kernelspec": {
   "display_name": "Python 3 (ipykernel)",
   "language": "python",
   "name": "python3"
  },
  "language_info": {
   "codemirror_mode": {
    "name": "ipython",
    "version": 3
   },
   "file_extension": ".py",
   "mimetype": "text/x-python",
   "name": "python",
   "nbconvert_exporter": "python",
   "pygments_lexer": "ipython3",
   "version": "3.8.12"
  }
 },
 "nbformat": 4,
 "nbformat_minor": 4
}
